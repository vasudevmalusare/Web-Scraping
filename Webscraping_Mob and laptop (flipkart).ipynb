{
 "cells": [
  {
   "cell_type": "markdown",
   "id": "adb187db",
   "metadata": {},
   "source": [
    "Flipcart Webscraping Mobail and Laptop "
   ]
  },
  {
   "cell_type": "code",
   "execution_count": 1,
   "id": "36111b30",
   "metadata": {},
   "outputs": [],
   "source": [
    "import urllib.request\n",
    "from bs4 import BeautifulSoup\n",
    "from urllib.request import urlopen"
   ]
  },
  {
   "cell_type": "code",
   "execution_count": 2,
   "id": "887ccba3",
   "metadata": {},
   "outputs": [],
   "source": [
    "url = \"https://www.flipkart.com/search?q=laptop&otracker=search&otracker1=search&marketplace=FLIPKART&as-show=on&as=off\""
   ]
  },
  {
   "cell_type": "code",
   "execution_count": 3,
   "id": "ff46af41",
   "metadata": {},
   "outputs": [],
   "source": [
    "page = urlopen(url)\n",
    "page_html = page.read()\n",
    "page.close()\n",
    "page_soup = BeautifulSoup(page_html, \"html.parser\")"
   ]
  },
  {
   "cell_type": "code",
   "execution_count": 9,
   "id": "b35fc6cf",
   "metadata": {},
   "outputs": [
    {
     "name": "stdout",
     "output_type": "stream",
     "text": [
      "24\n"
     ]
    }
   ],
   "source": [
    "containers = page_soup.findAll(\"div\", { \"class\": \"_2kHMtA\"})\n",
    "print(len(containers))"
   ]
  },
  {
   "cell_type": "code",
   "execution_count": 10,
   "id": "13a06ffc",
   "metadata": {},
   "outputs": [
    {
     "name": "stdout",
     "output_type": "stream",
     "text": [
      "<div class=\"_2kHMtA\">\n",
      " <a class=\"_1fQZEK\" href=\"/asus-vivobook-15-core-i3-11th-gen-8-gb-512-gb-ssd-windows-11-home-x515ea-ej322ws-x515ea-ej328ws-thin-light-laptop/p/itmaafbc240a8774?pid=COMGA5TUCZAV4HGH&amp;lid=LSTCOMGA5TUCZAV4HGHWM8PS0&amp;marketplace=FLIPKART&amp;q=laptop&amp;store=6bo%2Fb5g&amp;spotlightTagId=BestsellerId_6bo%2Fb5g&amp;srno=s_1_3&amp;otracker=search&amp;otracker1=search&amp;fm=organic&amp;iid=6fbbfd7b-6d03-468c-a8ac-59927570462f.COMGA5TUCZAV4HGH.SEARCH&amp;ppt=None&amp;ppn=None&amp;ssid=7t1ts3j5mo0000001687878397951&amp;qH=312f91285e048e09\" rel=\"noopener noreferrer\" target=\"_blank\">\n",
      "  <div>\n",
      "  </div>\n",
      "  <div class=\"MIXNux\">\n",
      "   <div class=\"_2QcLo-\">\n",
      "    <div>\n",
      "     <div class=\"CXW8mj\" style=\"height:200px;width:200px\">\n",
      "      <img alt=\"ASUS Vivobook 15 Core i3 11th Gen - (8 GB/512 GB SSD/Windows 11 Home) X515EA-EJ322WS | X515EA-EJ328WS ...\" class=\"_396cs4\" loading=\"eager\" src=\"https://rukminim1.flixcart.com/image/312/312/xif0q/computer/q/e/z/-original-imagpxgqesgrthks.jpeg?q=70\"/>\n",
      "     </div>\n",
      "    </div>\n",
      "   </div>\n",
      "   <div class=\"_3wLduG\">\n",
      "    <div class=\"_3PzNI-\">\n",
      "     <span class=\"f3A4_V\">\n",
      "      <label class=\"_2iDkf8\">\n",
      "       <input class=\"_30VH1S\" readonly=\"\" type=\"checkbox\"/>\n",
      "       <div class=\"_24_Dny\">\n",
      "       </div>\n",
      "      </label>\n",
      "     </span>\n",
      "     <label class=\"_6Up2sF\">\n",
      "      <span>\n",
      "       Add to Compare\n",
      "      </span>\n",
      "     </label>\n",
      "    </div>\n",
      "   </div>\n",
      "   <div class=\"_2hVSre _3nq8ih\">\n",
      "    <div class=\"_36FSn5\">\n",
      "     <svg class=\"_1l0elc\" height=\"16\" viewbox=\"0 0 20 16\" width=\"16\" xmlns=\"http://www.w3.org/2000/svg\">\n",
      "      <path class=\"eX72wL\" d=\"M8.695 16.682C4.06 12.382 1 9.536 1 6.065 1 3.219 3.178 1 5.95 1c1.566 0 3.069.746 4.05 1.915C10.981 1.745 12.484 1 14.05 1 16.822 1 19 3.22 19 6.065c0 3.471-3.06 6.316-7.695 10.617L10 17.897l-1.305-1.215z\" fill=\"#2874F0\" fill-rule=\"evenodd\" opacity=\".9\" stroke=\"#FFF\">\n",
      "      </path>\n",
      "     </svg>\n",
      "    </div>\n",
      "   </div>\n",
      "  </div>\n",
      "  <div class=\"_3pLy-c row\">\n",
      "   <div class=\"col col-7-12\">\n",
      "    <div class=\"_4rR01T\">\n",
      "     ASUS Vivobook 15 Core i3 11th Gen - (8 GB/512 GB SSD/Windows 11 Home) X515EA-EJ322WS | X515EA-EJ328WS ...\n",
      "    </div>\n",
      "    <div class=\"gUuXy-\">\n",
      "     <span class=\"_1lRcqv\" id=\"productRating_LSTCOMGA5TUCZAV4HGHWM8PS0_COMGA5TUCZAV4HGH_\">\n",
      "      <div class=\"_3LWZlK\">\n",
      "       4.2\n",
      "       <img class=\"_1wB99o\" src=\"data:image/svg+xml;base64,PHN2ZyB4bWxucz0iaHR0cDovL3d3dy53My5vcmcvMjAwMC9zdmciIHdpZHRoPSIxMyIgaGVpZ2h0PSIxMiI+PHBhdGggZmlsbD0iI0ZGRiIgZD0iTTYuNSA5LjQzOWwtMy42NzQgMi4yMy45NC00LjI2LTMuMjEtMi44ODMgNC4yNTQtLjQwNEw2LjUuMTEybDEuNjkgNC4wMSA0LjI1NC40MDQtMy4yMSAyLjg4Mi45NCA0LjI2eiIvPjwvc3ZnPg==\"/>\n",
      "      </div>\n",
      "     </span>\n",
      "     <span class=\"_2_R_DZ\">\n",
      "      <span>\n",
      "       <span>\n",
      "        2,818 Ratings\n",
      "       </span>\n",
      "       <span class=\"_13vcmD\">\n",
      "        &amp;\n",
      "       </span>\n",
      "       <span>\n",
      "        257 Reviews\n",
      "       </span>\n",
      "      </span>\n",
      "     </span>\n",
      "    </div>\n",
      "    <div class=\"fMghEO\">\n",
      "     <ul class=\"_1xgFaf\">\n",
      "      <li class=\"rgWa7D\">\n",
      "       Intel Core i3 Processor (11th Gen)\n",
      "      </li>\n",
      "      <li class=\"rgWa7D\">\n",
      "       8 GB DDR4 RAM\n",
      "      </li>\n",
      "      <li class=\"rgWa7D\">\n",
      "       64 bit Windows 11 Operating System\n",
      "      </li>\n",
      "      <li class=\"rgWa7D\">\n",
      "       512 GB SSD\n",
      "      </li>\n",
      "      <li class=\"rgWa7D\">\n",
      "       39.62 cm (15.6 Inch) Display\n",
      "      </li>\n",
      "      <li class=\"rgWa7D\">\n",
      "       1 Year Onsite Warranty\n",
      "      </li>\n",
      "     </ul>\n",
      "    </div>\n",
      "   </div>\n",
      "   <div class=\"col col-5-12 nlI3QM\">\n",
      "    <div class=\"_3tbKJL\">\n",
      "     <div class=\"_25b18c\">\n",
      "      <div class=\"_30jeq3 _1_WHN1\">\n",
      "       ₹34,990\n",
      "      </div>\n",
      "      <div class=\"_3I9_wc _27UcVY\">\n",
      "       ₹\n",
      "       <!-- -->\n",
      "       49,990\n",
      "      </div>\n",
      "      <div class=\"_3Ay6Sb\">\n",
      "       <span>\n",
      "        30% off\n",
      "       </span>\n",
      "      </div>\n",
      "     </div>\n",
      "     <div class=\"_3tcB5a p8ucoS\">\n",
      "      <div>\n",
      "       <div class=\"_2Tpdn3\" style=\"color:#000000;font-size:12px;font-weight:400\">\n",
      "        Free delivery by\n",
      "       </div>\n",
      "       <div class=\"_2Tpdn3\" style=\"color:#000000;font-size:12px;font-style:normal;font-weight:700\">\n",
      "        Today\n",
      "       </div>\n",
      "      </div>\n",
      "     </div>\n",
      "    </div>\n",
      "    <div class=\"_13J9qT\">\n",
      "     <img height=\"21\" src=\"//static-assets-web.flixcart.com/fk-p-linchpin-web/fk-cp-zion/img/fa_62673a.png\"/>\n",
      "    </div>\n",
      "    <div class=\"_2ZdXDB\">\n",
      "     <div class=\"_3xFhiH\">\n",
      "      <div class=\"_2Tpdn3 _18hQoS\" style=\"color:#000000;font-size:14px;font-style:normal;font-weight:400\">\n",
      "       Upto\n",
      "      </div>\n",
      "      <div class=\"_2Tpdn3 _18hQoS\" style=\"color:#000000;font-size:14px;font-style:normal;font-weight:700\">\n",
      "       ₹17,900\n",
      "      </div>\n",
      "      <div class=\"_2Tpdn3 _18hQoS\" style=\"color:#000000;font-size:14px;font-style:normal;font-weight:400\">\n",
      "       Off on Exchange\n",
      "      </div>\n",
      "     </div>\n",
      "    </div>\n",
      "    <div class=\"_2ZdXDB\">\n",
      "     <div class=\"_3xFhiH\">\n",
      "      <div class=\"_2Tpdn3 _18hQoS\" style=\"color:#26A541;font-size:14px;font-weight:700\">\n",
      "       Bank Offer\n",
      "      </div>\n",
      "     </div>\n",
      "    </div>\n",
      "   </div>\n",
      "  </div>\n",
      " </a>\n",
      "</div>\n"
     ]
    }
   ],
   "source": [
    "print(BeautifulSoup.prettify(containers[2]))"
   ]
  },
  {
   "cell_type": "code",
   "execution_count": 12,
   "id": "b9059a8c",
   "metadata": {},
   "outputs": [
    {
     "name": "stdout",
     "output_type": "stream",
     "text": [
      "Lenovo Intel Celeron Dual Core - (8 GB/256 GB SSD/Windows 11 Home) 81WQ00MQIN|81WQ00NXIN Laptop\n"
     ]
    }
   ],
   "source": [
    "container = containers[4]\n",
    "prod_name = container.div.img[\"alt\"]\n",
    "print(prod_name)"
   ]
  },
  {
   "cell_type": "code",
   "execution_count": 13,
   "id": "69b8ee38",
   "metadata": {},
   "outputs": [
    {
     "name": "stdout",
     "output_type": "stream",
     "text": [
      "₹46,090\n"
     ]
    }
   ],
   "source": [
    "original_price = container.findAll(\"div\", {\"class\": \"_3I9_wc _27UcVY\"})\n",
    "print(original_price[0].text)"
   ]
  },
  {
   "cell_type": "code",
   "execution_count": 14,
   "id": "ffe85859",
   "metadata": {},
   "outputs": [
    {
     "name": "stdout",
     "output_type": "stream",
     "text": [
      "41% off\n"
     ]
    }
   ],
   "source": [
    "discount_percent = container.findAll(\"div\", {\"class\": \"_3Ay6Sb\"})\n",
    "print(discount_percent[0].text)"
   ]
  },
  {
   "cell_type": "code",
   "execution_count": 15,
   "id": "90e80d2f",
   "metadata": {},
   "outputs": [
    {
     "name": "stdout",
     "output_type": "stream",
     "text": [
      "₹26,989\n"
     ]
    }
   ],
   "source": [
    "discounted_price = container.findAll(\"div\", {\"class\": \"_30jeq3 _1_WHN1\"})\n",
    "print(discounted_price[0].text)"
   ]
  },
  {
   "cell_type": "code",
   "execution_count": 16,
   "id": "3078af3a",
   "metadata": {},
   "outputs": [
    {
     "name": "stdout",
     "output_type": "stream",
     "text": [
      "4.1\n"
     ]
    }
   ],
   "source": [
    "prod_ratings = container.findAll(\"span\", {\"class\": \"_1lRcqv\"})\n",
    "print(prod_ratings[0].text)"
   ]
  },
  {
   "cell_type": "code",
   "execution_count": 17,
   "id": "1b5e36b4",
   "metadata": {},
   "outputs": [
    {
     "name": "stdout",
     "output_type": "stream",
     "text": [
      "1,374 Ratings & 141 Reviews\n"
     ]
    }
   ],
   "source": [
    "reviews = container.findAll(\"span\", {\"class\" : \"_2_R_DZ\"})\n",
    "print(reviews[0].text)"
   ]
  },
  {
   "cell_type": "code",
   "execution_count": 19,
   "id": "43332dc9",
   "metadata": {
    "scrolled": false
   },
   "outputs": [
    {
     "name": "stdout",
     "output_type": "stream",
     "text": [
      "\u001b[1mProduct Name: \n",
      "\u001b[0mLenovo IdeaPad Gaming 3 Intel Core i5 11th Gen - (8 GB/512 GB SSD/Windows 11 Home/4 GB Graphics/NVIDIA... \n",
      "\n",
      "\u001b[1mOriginal Price: \n",
      "\u001b[0m₹81,990 \n",
      "\n",
      "\u001b[1mDiscount Percentage: \n",
      "\u001b[0m34% off \n",
      "\n",
      "\u001b[1mDiscounted Price: \n",
      "\u001b[0m₹53,990 \n",
      "\n",
      "\u001b[1mRatings: \n",
      "\u001b[0m4.3 \n",
      "\n",
      "\u001b[1mNumber of Reviews: \n",
      "\u001b[0m3,351 Ratings & 295 Reviews \n",
      "\n",
      "----------------------------------------------------------------------------------------------------\n",
      "\u001b[1mProduct Name: \n",
      "\u001b[0mLenovo IdeaPad Slim 3 Intel Core i5 11th Gen - (16 GB/512 GB SSD/Windows 11 Home) 15ITL6 Thin and Ligh... \n",
      "\n",
      "\u001b[1mOriginal Price: \n",
      "\u001b[0m₹84,590 \n",
      "\n",
      "\u001b[1mDiscount Percentage: \n",
      "\u001b[0m37% off \n",
      "\n",
      "\u001b[1mDiscounted Price: \n",
      "\u001b[0m₹53,000 \n",
      "\n",
      "\u001b[1mRatings: \n",
      "\u001b[0m4.1 \n",
      "\n",
      "\u001b[1mNumber of Reviews: \n",
      "\u001b[0m130 Ratings & 11 Reviews \n",
      "\n",
      "----------------------------------------------------------------------------------------------------\n",
      "\u001b[1mProduct Name: \n",
      "\u001b[0mASUS Vivobook 15 Core i3 11th Gen - (8 GB/512 GB SSD/Windows 11 Home) X515EA-EJ322WS | X515EA-EJ328WS ... \n",
      "\n",
      "\u001b[1mOriginal Price: \n",
      "\u001b[0m₹49,990 \n",
      "\n",
      "\u001b[1mDiscount Percentage: \n",
      "\u001b[0m30% off \n",
      "\n",
      "\u001b[1mDiscounted Price: \n",
      "\u001b[0m₹34,990 \n",
      "\n",
      "\u001b[1mRatings: \n",
      "\u001b[0m4.2 \n",
      "\n",
      "\u001b[1mNumber of Reviews: \n",
      "\u001b[0m2,818 Ratings & 257 Reviews \n",
      "\n",
      "----------------------------------------------------------------------------------------------------\n",
      "\u001b[1mProduct Name: \n",
      "\u001b[0mAPPLE 2020 Macbook Air M1 - (8 GB/256 GB SSD/Mac OS Big Sur) MGN63HN/A \n",
      "\n",
      "\u001b[1mOriginal Price: \n",
      "\u001b[0m₹99,900 \n",
      "\n",
      "\u001b[1mDiscount Percentage: \n",
      "\u001b[0m17% off \n",
      "\n",
      "\u001b[1mDiscounted Price: \n",
      "\u001b[0m₹81,990 \n",
      "\n",
      "\u001b[1mRatings: \n",
      "\u001b[0m4.7 \n",
      "\n",
      "\u001b[1mNumber of Reviews: \n",
      "\u001b[0m10,380 Ratings & 898 Reviews \n",
      "\n",
      "----------------------------------------------------------------------------------------------------\n",
      "\u001b[1mProduct Name: \n",
      "\u001b[0mLenovo Intel Celeron Dual Core - (8 GB/256 GB SSD/Windows 11 Home) 81WQ00MQIN|81WQ00NXIN Laptop \n",
      "\n",
      "\u001b[1mOriginal Price: \n",
      "\u001b[0m₹46,090 \n",
      "\n",
      "\u001b[1mDiscount Percentage: \n",
      "\u001b[0m41% off \n",
      "\n",
      "\u001b[1mDiscounted Price: \n",
      "\u001b[0m₹26,989 \n",
      "\n",
      "\u001b[1mRatings: \n",
      "\u001b[0m4.1 \n",
      "\n",
      "\u001b[1mNumber of Reviews: \n",
      "\u001b[0m1,374 Ratings & 141 Reviews \n",
      "\n",
      "----------------------------------------------------------------------------------------------------\n",
      "\u001b[1mProduct Name: \n",
      "\u001b[0mHP 15s (2023) Intel Core i5 11th Gen - (16 GB/512 GB SSD/Windows 11 Home) 15s-fr4001TU Thin and Light ... \n",
      "\n",
      "\u001b[1mOriginal Price: \n",
      "\u001b[0m₹59,237 \n",
      "\n",
      "\u001b[1mDiscount Percentage: \n",
      "\u001b[0m5% off \n",
      "\n",
      "\u001b[1mDiscounted Price: \n",
      "\u001b[0m₹55,990 \n",
      "\n",
      "\u001b[1mRatings: \n",
      "\u001b[0m4.3 \n",
      "\n",
      "\u001b[1mNumber of Reviews: \n",
      "\u001b[0m629 Ratings & 38 Reviews \n",
      "\n",
      "----------------------------------------------------------------------------------------------------\n"
     ]
    }
   ],
   "source": [
    "for container in containers[:6]:\n",
    "    product_name = container.findAll(\"div\", {\"class\": \"_4rR01T\"})    \n",
    "    prod_name = product_name[0].text.strip()\n",
    "    \n",
    "    original_price = container.findAll(\"div\", {\"class\": \"_3I9_wc _27UcVY\"})\n",
    "    original = original_price[0].text.strip()\n",
    "    \n",
    "    discount_percent = container.findAll(\"div\", {\"class\": \"_3Ay6Sb\"})\n",
    "    percent = discount_percent[0].text.strip()\n",
    "    \n",
    "    discounted_price = container.findAll(\"div\", {\"class\": \"_30jeq3 _1_WHN1\"})\n",
    "    discount = discounted_price[0].text.strip()\n",
    "\n",
    "    rating_container = container.findAll(\"span\", {\"class\": \"_1lRcqv\"})\n",
    "    prod_rating = rating_container[0].text.strip()\n",
    "    \n",
    "    reviews_container = container.findAll(\"span\", {\"class\": \"_2_R_DZ\"})\n",
    "    reviews_rating = reviews_container[0].text\n",
    "    \n",
    "    print(\"\\033[1mProduct Name: \\n\"+ '\\033[0m'+ str(prod_name), \"\\n\"),\n",
    "    print(\"\\033[1mOriginal Price: \\n\"+ '\\033[0m'+ str(original), \"\\n\"),\n",
    "    print(\"\\033[1mDiscount Percentage: \\n\"+ '\\033[0m'+ str(percent), \"\\n\"),\n",
    "    print(\"\\033[1mDiscounted Price: \\n\"+ '\\033[0m'+ str(discount), \"\\n\"),\n",
    "    print(\"\\033[1mRatings: \\n\"+ '\\033[0m'+ prod_rating, \"\\n\"),\n",
    "    print(\"\\033[1mNumber of Reviews: \\n\"+ '\\033[0m'+ reviews_rating, \"\\n\"),\n",
    "    print(\"-\"*100)"
   ]
  },
  {
   "cell_type": "code",
   "execution_count": 21,
   "id": "930d5d64",
   "metadata": {},
   "outputs": [],
   "source": [
    "# Mobail upto 80000\n",
    "url = \"https://www.flipkart.com/search?q=Mobail%20upto%2080000&otracker=search&otracker1=search&marketplace=FLIPKART&as-show=on&as=off\""
   ]
  },
  {
   "cell_type": "code",
   "execution_count": 22,
   "id": "1460fdc1",
   "metadata": {},
   "outputs": [],
   "source": [
    "page = urlopen(url)\n",
    "page_html = page.read()\n",
    "page.close()\n",
    "page_soup = BeautifulSoup(page_html, \"html.parser\")"
   ]
  },
  {
   "cell_type": "code",
   "execution_count": 23,
   "id": "37d19073",
   "metadata": {},
   "outputs": [
    {
     "name": "stdout",
     "output_type": "stream",
     "text": [
      "24\n"
     ]
    }
   ],
   "source": [
    "containers = page_soup.findAll(\"div\", { \"class\": \"_2kHMtA\"})\n",
    "print(len(containers))"
   ]
  },
  {
   "cell_type": "code",
   "execution_count": 24,
   "id": "63ca6e4f",
   "metadata": {},
   "outputs": [
    {
     "name": "stdout",
     "output_type": "stream",
     "text": [
      "<div class=\"_2kHMtA\">\n",
      " <a class=\"_1fQZEK\" href=\"/apple-iphone-14-plus-purple-128-gb/p/itm7a759a472d863?pid=MOBGHWFHYFJWRHAG&amp;lid=LSTMOBGHWFHYFJWRHAGX1JLRZ&amp;marketplace=FLIPKART&amp;q=Mobail+upto+80000&amp;store=tyy%2F4io&amp;srno=s_1_3&amp;otracker=search&amp;otracker1=search&amp;fm=organic&amp;iid=6530c1ae-d046-4eea-a5ca-baa481a6c83a.MOBGHWFHYFJWRHAG.SEARCH&amp;ppt=None&amp;ppn=None&amp;ssid=y5bw8up1kw0000001687878859311&amp;qH=fae64f9e5b80996c\" rel=\"noopener noreferrer\" target=\"_blank\">\n",
      "  <div class=\"MIXNux\">\n",
      "   <div class=\"_2QcLo-\">\n",
      "    <div>\n",
      "     <div class=\"CXW8mj\" style=\"height:200px;width:200px\">\n",
      "      <img alt=\"APPLE iPhone 14 Plus (Purple, 128 GB)\" class=\"_396cs4\" loading=\"eager\" src=\"https://rukminim1.flixcart.com/image/312/312/xif0q/mobile/v/0/t/-original-imaghxa5rgcv5enm.jpeg?q=70\"/>\n",
      "     </div>\n",
      "    </div>\n",
      "   </div>\n",
      "   <div class=\"_3wLduG\">\n",
      "    <div class=\"_3PzNI-\">\n",
      "     <span class=\"f3A4_V\">\n",
      "      <label class=\"_2iDkf8\">\n",
      "       <input class=\"_30VH1S\" readonly=\"\" type=\"checkbox\"/>\n",
      "       <div class=\"_24_Dny\">\n",
      "       </div>\n",
      "      </label>\n",
      "     </span>\n",
      "     <label class=\"_6Up2sF\">\n",
      "      <span>\n",
      "       Add to Compare\n",
      "      </span>\n",
      "     </label>\n",
      "    </div>\n",
      "   </div>\n",
      "   <div class=\"_2hVSre _3nq8ih\">\n",
      "    <div class=\"_36FSn5\">\n",
      "     <svg class=\"_1l0elc\" height=\"16\" viewbox=\"0 0 20 16\" width=\"16\" xmlns=\"http://www.w3.org/2000/svg\">\n",
      "      <path class=\"eX72wL\" d=\"M8.695 16.682C4.06 12.382 1 9.536 1 6.065 1 3.219 3.178 1 5.95 1c1.566 0 3.069.746 4.05 1.915C10.981 1.745 12.484 1 14.05 1 16.822 1 19 3.22 19 6.065c0 3.471-3.06 6.316-7.695 10.617L10 17.897l-1.305-1.215z\" fill=\"#2874F0\" fill-rule=\"evenodd\" opacity=\".9\" stroke=\"#FFF\">\n",
      "      </path>\n",
      "     </svg>\n",
      "    </div>\n",
      "   </div>\n",
      "  </div>\n",
      "  <div class=\"_3pLy-c row\">\n",
      "   <div class=\"col col-7-12\">\n",
      "    <div class=\"_4rR01T\">\n",
      "     APPLE iPhone 14 Plus (Purple, 128 GB)\n",
      "    </div>\n",
      "    <div class=\"gUuXy-\">\n",
      "     <span class=\"_1lRcqv\" id=\"productRating_LSTMOBGHWFHYFJWRHAGX1JLRZ_MOBGHWFHYFJWRHAG_\">\n",
      "      <div class=\"_3LWZlK\">\n",
      "       4.7\n",
      "       <img class=\"_1wB99o\" src=\"data:image/svg+xml;base64,PHN2ZyB4bWxucz0iaHR0cDovL3d3dy53My5vcmcvMjAwMC9zdmciIHdpZHRoPSIxMyIgaGVpZ2h0PSIxMiI+PHBhdGggZmlsbD0iI0ZGRiIgZD0iTTYuNSA5LjQzOWwtMy42NzQgMi4yMy45NC00LjI2LTMuMjEtMi44ODMgNC4yNTQtLjQwNEw2LjUuMTEybDEuNjkgNC4wMSA0LjI1NC40MDQtMy4yMSAyLjg4Mi45NCA0LjI2eiIvPjwvc3ZnPg==\"/>\n",
      "      </div>\n",
      "     </span>\n",
      "     <span class=\"_2_R_DZ\">\n",
      "      <span>\n",
      "       <span>\n",
      "        11,325 Ratings\n",
      "       </span>\n",
      "       <span class=\"_13vcmD\">\n",
      "        &amp;\n",
      "       </span>\n",
      "       <span>\n",
      "        696 Reviews\n",
      "       </span>\n",
      "      </span>\n",
      "     </span>\n",
      "    </div>\n",
      "    <div class=\"fMghEO\">\n",
      "     <ul class=\"_1xgFaf\">\n",
      "      <li class=\"rgWa7D\">\n",
      "       128 GB ROM\n",
      "      </li>\n",
      "      <li class=\"rgWa7D\">\n",
      "       17.02 cm (6.7 inch) Super Retina XDR Display\n",
      "      </li>\n",
      "      <li class=\"rgWa7D\">\n",
      "       12MP + 12MP | 12MP Front Camera\n",
      "      </li>\n",
      "      <li class=\"rgWa7D\">\n",
      "       A15 Bionic Chip, 6 Core Processor Processor\n",
      "      </li>\n",
      "      <li class=\"rgWa7D\">\n",
      "       1 Year Warranty for Phone and 6 Months Warranty for In-Box Accessories\n",
      "      </li>\n",
      "     </ul>\n",
      "    </div>\n",
      "   </div>\n",
      "   <div class=\"col col-5-12 nlI3QM\">\n",
      "    <div class=\"_3tbKJL\">\n",
      "     <div class=\"_25b18c\">\n",
      "      <div class=\"_30jeq3 _1_WHN1\">\n",
      "       ₹79,999\n",
      "      </div>\n",
      "      <div class=\"_3I9_wc _27UcVY\">\n",
      "       ₹\n",
      "       <!-- -->\n",
      "       89,900\n",
      "      </div>\n",
      "      <div class=\"_3Ay6Sb\">\n",
      "       <span>\n",
      "        11% off\n",
      "       </span>\n",
      "      </div>\n",
      "     </div>\n",
      "     <div class=\"_3tcB5a p8ucoS\">\n",
      "      <div>\n",
      "       <div class=\"_2Tpdn3\" style=\"color:#000000;font-size:12px;font-weight:400\">\n",
      "        Free delivery by\n",
      "       </div>\n",
      "       <div class=\"_2Tpdn3\" style=\"color:#000000;font-size:12px;font-style:normal;font-weight:700\">\n",
      "        Today\n",
      "       </div>\n",
      "      </div>\n",
      "     </div>\n",
      "    </div>\n",
      "    <div class=\"_13J9qT\">\n",
      "     <img height=\"21\" src=\"//static-assets-web.flixcart.com/fk-p-linchpin-web/fk-cp-zion/img/fa_62673a.png\"/>\n",
      "    </div>\n",
      "    <div class=\"_2ZdXDB\">\n",
      "     <div class=\"_3xFhiH\">\n",
      "      <div class=\"_2Tpdn3 _18hQoS\" style=\"color:#26A541;font-size:12px;font-weight:700\">\n",
      "       Daily Saver\n",
      "      </div>\n",
      "     </div>\n",
      "    </div>\n",
      "    <div class=\"_2ZdXDB\">\n",
      "     <div class=\"_3xFhiH\">\n",
      "      <div class=\"_2Tpdn3 _18hQoS\" style=\"color:#000000;font-size:14px;font-style:normal;font-weight:400\">\n",
      "       Upto\n",
      "      </div>\n",
      "      <div class=\"_2Tpdn3 _18hQoS\" style=\"color:#000000;font-size:14px;font-style:normal;font-weight:700\">\n",
      "       ₹35,000\n",
      "      </div>\n",
      "      <div class=\"_2Tpdn3 _18hQoS\" style=\"color:#000000;font-size:14px;font-style:normal;font-weight:400\">\n",
      "       Off on Exchange\n",
      "      </div>\n",
      "     </div>\n",
      "    </div>\n",
      "   </div>\n",
      "  </div>\n",
      " </a>\n",
      "</div>\n"
     ]
    }
   ],
   "source": [
    "print(BeautifulSoup.prettify(containers[2]))"
   ]
  },
  {
   "cell_type": "code",
   "execution_count": 25,
   "id": "f8c4b77f",
   "metadata": {},
   "outputs": [
    {
     "name": "stdout",
     "output_type": "stream",
     "text": [
      "Google Pixel 7 Pro (Obsidian, 128 GB)\n"
     ]
    }
   ],
   "source": [
    "container = containers[4]\n",
    "prod_name = container.div.img[\"alt\"]\n",
    "print(prod_name)"
   ]
  },
  {
   "cell_type": "code",
   "execution_count": 26,
   "id": "0378ba66",
   "metadata": {},
   "outputs": [
    {
     "name": "stdout",
     "output_type": "stream",
     "text": [
      "₹84,999\n"
     ]
    }
   ],
   "source": [
    "original_price = container.findAll(\"div\", {\"class\": \"_3I9_wc _27UcVY\"})\n",
    "print(original_price[0].text)"
   ]
  },
  {
   "cell_type": "code",
   "execution_count": 27,
   "id": "3df8287d",
   "metadata": {},
   "outputs": [
    {
     "name": "stdout",
     "output_type": "stream",
     "text": [
      "10% off\n"
     ]
    }
   ],
   "source": [
    "discount_percent = container.findAll(\"div\", {\"class\": \"_3Ay6Sb\"})\n",
    "print(discount_percent[0].text)"
   ]
  },
  {
   "cell_type": "code",
   "execution_count": 28,
   "id": "91f17739",
   "metadata": {},
   "outputs": [
    {
     "name": "stdout",
     "output_type": "stream",
     "text": [
      "₹75,999\n"
     ]
    }
   ],
   "source": [
    "discounted_price = container.findAll(\"div\", {\"class\": \"_30jeq3 _1_WHN1\"})\n",
    "print(discounted_price[0].text)"
   ]
  },
  {
   "cell_type": "code",
   "execution_count": 29,
   "id": "5e54ea66",
   "metadata": {},
   "outputs": [
    {
     "name": "stdout",
     "output_type": "stream",
     "text": [
      "4.4\n"
     ]
    }
   ],
   "source": [
    "prod_ratings = container.findAll(\"span\", {\"class\": \"_1lRcqv\"})\n",
    "print(prod_ratings[0].text)"
   ]
  },
  {
   "cell_type": "code",
   "execution_count": 30,
   "id": "529c7f44",
   "metadata": {},
   "outputs": [
    {
     "name": "stdout",
     "output_type": "stream",
     "text": [
      "2,732 Ratings & 440 Reviews\n"
     ]
    }
   ],
   "source": [
    "reviews = container.findAll(\"span\", {\"class\" : \"_2_R_DZ\"})\n",
    "print(reviews[0].text)"
   ]
  },
  {
   "cell_type": "code",
   "execution_count": 32,
   "id": "9b41ab1e",
   "metadata": {},
   "outputs": [
    {
     "name": "stdout",
     "output_type": "stream",
     "text": [
      "\u001b[1mProduct Name: \n",
      "\u001b[0mAPPLE iPhone 14 Plus (Midnight, 128 GB) \n",
      "\n",
      "\u001b[1mOriginal Price: \n",
      "\u001b[0m₹89,900 \n",
      "\n",
      "\u001b[1mDiscount Percentage: \n",
      "\u001b[0m11% off \n",
      "\n",
      "\u001b[1mDiscounted Price: \n",
      "\u001b[0m₹79,999 \n",
      "\n",
      "\u001b[1mRatings: \n",
      "\u001b[0m4.7 \n",
      "\n",
      "\u001b[1mNumber of Reviews: \n",
      "\u001b[0m11,325 Ratings & 696 Reviews \n",
      "\n",
      "****************************************************************************************************\n",
      "\u001b[1mProduct Name: \n",
      "\u001b[0mAPPLE iPhone 14 Plus (Starlight, 128 GB) \n",
      "\n",
      "\u001b[1mOriginal Price: \n",
      "\u001b[0m₹89,900 \n",
      "\n",
      "\u001b[1mDiscount Percentage: \n",
      "\u001b[0m11% off \n",
      "\n",
      "\u001b[1mDiscounted Price: \n",
      "\u001b[0m₹79,999 \n",
      "\n",
      "\u001b[1mRatings: \n",
      "\u001b[0m4.7 \n",
      "\n",
      "\u001b[1mNumber of Reviews: \n",
      "\u001b[0m11,325 Ratings & 696 Reviews \n",
      "\n",
      "****************************************************************************************************\n",
      "\u001b[1mProduct Name: \n",
      "\u001b[0mAPPLE iPhone 14 Plus (Purple, 128 GB) \n",
      "\n",
      "\u001b[1mOriginal Price: \n",
      "\u001b[0m₹89,900 \n",
      "\n",
      "\u001b[1mDiscount Percentage: \n",
      "\u001b[0m11% off \n",
      "\n",
      "\u001b[1mDiscounted Price: \n",
      "\u001b[0m₹79,999 \n",
      "\n",
      "\u001b[1mRatings: \n",
      "\u001b[0m4.7 \n",
      "\n",
      "\u001b[1mNumber of Reviews: \n",
      "\u001b[0m11,325 Ratings & 696 Reviews \n",
      "\n",
      "****************************************************************************************************\n",
      "\u001b[1mProduct Name: \n",
      "\u001b[0mAPPLE iPhone 14 Plus (Blue, 128 GB) \n",
      "\n",
      "\u001b[1mOriginal Price: \n",
      "\u001b[0m₹89,900 \n",
      "\n",
      "\u001b[1mDiscount Percentage: \n",
      "\u001b[0m11% off \n",
      "\n",
      "\u001b[1mDiscounted Price: \n",
      "\u001b[0m₹79,999 \n",
      "\n",
      "\u001b[1mRatings: \n",
      "\u001b[0m4.7 \n",
      "\n",
      "\u001b[1mNumber of Reviews: \n",
      "\u001b[0m11,325 Ratings & 696 Reviews \n",
      "\n",
      "****************************************************************************************************\n",
      "\u001b[1mProduct Name: \n",
      "\u001b[0mGoogle Pixel 7 Pro (Obsidian, 128 GB) \n",
      "\n",
      "\u001b[1mOriginal Price: \n",
      "\u001b[0m₹84,999 \n",
      "\n",
      "\u001b[1mDiscount Percentage: \n",
      "\u001b[0m10% off \n",
      "\n",
      "\u001b[1mDiscounted Price: \n",
      "\u001b[0m₹75,999 \n",
      "\n",
      "\u001b[1mRatings: \n",
      "\u001b[0m4.4 \n",
      "\n",
      "\u001b[1mNumber of Reviews: \n",
      "\u001b[0m2,732 Ratings & 440 Reviews \n",
      "\n",
      "****************************************************************************************************\n"
     ]
    }
   ],
   "source": [
    "for container in containers[:5]:\n",
    "    product_name = container.findAll(\"div\", {\"class\": \"_4rR01T\"})    \n",
    "    prod_name = product_name[0].text.strip()\n",
    "    \n",
    "    original_price = container.findAll(\"div\", {\"class\": \"_3I9_wc _27UcVY\"})\n",
    "    original = original_price[0].text.strip()\n",
    "    \n",
    "    discount_percent = container.findAll(\"div\", {\"class\": \"_3Ay6Sb\"})\n",
    "    percent = discount_percent[0].text.strip()\n",
    "    \n",
    "    discounted_price = container.findAll(\"div\", {\"class\": \"_30jeq3 _1_WHN1\"})\n",
    "    discount = discounted_price[0].text.strip()\n",
    "\n",
    "    rating_container = container.findAll(\"span\", {\"class\": \"_1lRcqv\"})\n",
    "    prod_rating = rating_container[0].text.strip()\n",
    "    \n",
    "    reviews_container = container.findAll(\"span\", {\"class\": \"_2_R_DZ\"})\n",
    "    reviews_rating = reviews_container[0].text\n",
    "    \n",
    "    print(\"\\033[1mProduct Name: \\n\"+ '\\033[0m'+ str(prod_name), \"\\n\"),\n",
    "    print(\"\\033[1mOriginal Price: \\n\"+ '\\033[0m'+ str(original), \"\\n\"),\n",
    "    print(\"\\033[1mDiscount Percentage: \\n\"+ '\\033[0m'+ str(percent), \"\\n\"),\n",
    "    print(\"\\033[1mDiscounted Price: \\n\"+ '\\033[0m'+ str(discount), \"\\n\"),\n",
    "    print(\"\\033[1mRatings: \\n\"+ '\\033[0m'+ prod_rating, \"\\n\"),\n",
    "    print(\"\\033[1mNumber of Reviews: \\n\"+ '\\033[0m'+ reviews_rating, \"\\n\"),\n",
    "    print(\"*\"*100)"
   ]
  },
  {
   "cell_type": "code",
   "execution_count": null,
   "id": "86faba56",
   "metadata": {},
   "outputs": [],
   "source": []
  }
 ],
 "metadata": {
  "kernelspec": {
   "display_name": "Python 3 (ipykernel)",
   "language": "python",
   "name": "python3"
  },
  "language_info": {
   "codemirror_mode": {
    "name": "ipython",
    "version": 3
   },
   "file_extension": ".py",
   "mimetype": "text/x-python",
   "name": "python",
   "nbconvert_exporter": "python",
   "pygments_lexer": "ipython3",
   "version": "3.9.7"
  }
 },
 "nbformat": 4,
 "nbformat_minor": 5
}
